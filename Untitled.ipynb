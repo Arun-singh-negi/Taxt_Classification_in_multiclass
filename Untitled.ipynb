{
 "cells": [
  {
   "cell_type": "code",
   "execution_count": 1,
   "id": "inclusive-columbus",
   "metadata": {},
   "outputs": [],
   "source": [
    "import pandas as pd"
   ]
  },
  {
   "cell_type": "code",
   "execution_count": 68,
   "id": "included-restriction",
   "metadata": {},
   "outputs": [],
   "source": [
    "import sklearn as sk\n",
    "from sklearn.model_selection import train_test_split\n",
    "from sklearn.naive_bayes import MultinomialNB\n",
    "from sklearn.pipeline import Pipeline\n",
    "from sklearn.feature_extraction.text import TfidfTransformer\n",
    "from sklearn.feature_extraction.text import CountVectorizer, TfidfVectorizer\n",
    "from sklearn.metrics import classification_report\n",
    "from sklearn.metrics import accuracy_score, confusion_matrix"
   ]
  },
  {
   "cell_type": "code",
   "execution_count": 5,
   "id": "parallel-warehouse",
   "metadata": {},
   "outputs": [],
   "source": [
    "a=pd.read_csv('root2ai - Data.csv')"
   ]
  },
  {
   "cell_type": "code",
   "execution_count": 25,
   "id": "alien-emperor",
   "metadata": {},
   "outputs": [
    {
     "data": {
      "text/html": [
       "<div>\n",
       "<style scoped>\n",
       "    .dataframe tbody tr th:only-of-type {\n",
       "        vertical-align: middle;\n",
       "    }\n",
       "\n",
       "    .dataframe tbody tr th {\n",
       "        vertical-align: top;\n",
       "    }\n",
       "\n",
       "    .dataframe thead th {\n",
       "        text-align: right;\n",
       "    }\n",
       "</style>\n",
       "<table border=\"1\" class=\"dataframe\">\n",
       "  <thead>\n",
       "    <tr style=\"text-align: right;\">\n",
       "      <th></th>\n",
       "      <th>Text</th>\n",
       "      <th>Target</th>\n",
       "    </tr>\n",
       "  </thead>\n",
       "  <tbody>\n",
       "    <tr>\n",
       "      <th>22694</th>\n",
       "      <td>third final section book presents four case st...</td>\n",
       "      <td>Reg Tech</td>\n",
       "    </tr>\n",
       "    <tr>\n",
       "      <th>22695</th>\n",
       "      <td>Each study illustrates improved results achiev...</td>\n",
       "      <td>Reg Tech</td>\n",
       "    </tr>\n",
       "    <tr>\n",
       "      <th>22696</th>\n",
       "      <td>questions Kaldero poses case studies good food...</td>\n",
       "      <td>Reg Tech</td>\n",
       "    </tr>\n",
       "    <tr>\n",
       "      <th>22697</th>\n",
       "      <td>instance first study focuses question bank ind...</td>\n",
       "      <td>Reg Tech</td>\n",
       "    </tr>\n",
       "    <tr>\n",
       "      <th>22698</th>\n",
       "      <td>third tackles problem traffic congestion overc...</td>\n",
       "      <td>Reg Tech</td>\n",
       "    </tr>\n",
       "    <tr>\n",
       "      <th>22699</th>\n",
       "      <td>fourth study discusses blockchain technology e...</td>\n",
       "      <td>Reg Tech</td>\n",
       "    </tr>\n",
       "    <tr>\n",
       "      <th>22700</th>\n",
       "      <td>book finishes stating biggest issue emerging F...</td>\n",
       "      <td>Reg Tech</td>\n",
       "    </tr>\n",
       "    <tr>\n",
       "      <th>22701</th>\n",
       "      <td>people culture cess</td>\n",
       "      <td>Reg Tech</td>\n",
       "    </tr>\n",
       "    <tr>\n",
       "      <th>22702</th>\n",
       "      <td>author challenges execu tive lead change stop ...</td>\n",
       "      <td>Reg Tech</td>\n",
       "    </tr>\n",
       "    <tr>\n",
       "      <th>22703</th>\n",
       "      <td>change data driven culture come bottom must start</td>\n",
       "      <td>Reg Tech</td>\n",
       "    </tr>\n",
       "  </tbody>\n",
       "</table>\n",
       "</div>"
      ],
      "text/plain": [
       "                                                    Text    Target\n",
       "22694  third final section book presents four case st...  Reg Tech\n",
       "22695  Each study illustrates improved results achiev...  Reg Tech\n",
       "22696  questions Kaldero poses case studies good food...  Reg Tech\n",
       "22697  instance first study focuses question bank ind...  Reg Tech\n",
       "22698  third tackles problem traffic congestion overc...  Reg Tech\n",
       "22699  fourth study discusses blockchain technology e...  Reg Tech\n",
       "22700  book finishes stating biggest issue emerging F...  Reg Tech\n",
       "22701                                people culture cess  Reg Tech\n",
       "22702  author challenges execu tive lead change stop ...  Reg Tech\n",
       "22703  change data driven culture come bottom must start  Reg Tech"
      ]
     },
     "execution_count": 25,
     "metadata": {},
     "output_type": "execute_result"
    }
   ],
   "source": [
    "a.tail(10)"
   ]
  },
  {
   "cell_type": "code",
   "execution_count": 22,
   "id": "absent-andrew",
   "metadata": {},
   "outputs": [
    {
     "data": {
      "text/plain": [
       "array(['Blockchain', 'Bigdata', 'credit reporting', 'Cyber Security',\n",
       "       'FinTech', 'Microservices', 'Neobanks', 'Robo Advising',\n",
       "       'Stock Trading', 'Data Security', 'Reg Tech'], dtype=object)"
      ]
     },
     "execution_count": 22,
     "metadata": {},
     "output_type": "execute_result"
    }
   ],
   "source": [
    "a.Target.unique()"
   ]
  },
  {
   "cell_type": "code",
   "execution_count": 27,
   "id": "arbitrary-satellite",
   "metadata": {},
   "outputs": [],
   "source": [
    "x=a.Text"
   ]
  },
  {
   "cell_type": "code",
   "execution_count": 29,
   "id": "logical-england",
   "metadata": {},
   "outputs": [],
   "source": [
    "y=a.Target"
   ]
  },
  {
   "cell_type": "markdown",
   "id": "chubby-universal",
   "metadata": {},
   "source": [
    "# Random subset"
   ]
  },
  {
   "cell_type": "code",
   "execution_count": 88,
   "id": "italian-damage",
   "metadata": {},
   "outputs": [],
   "source": [
    "rand_sub=a.sample(n=22000)"
   ]
  },
  {
   "cell_type": "code",
   "execution_count": 89,
   "id": "standard-static",
   "metadata": {},
   "outputs": [
    {
     "data": {
      "text/html": [
       "<div>\n",
       "<style scoped>\n",
       "    .dataframe tbody tr th:only-of-type {\n",
       "        vertical-align: middle;\n",
       "    }\n",
       "\n",
       "    .dataframe tbody tr th {\n",
       "        vertical-align: top;\n",
       "    }\n",
       "\n",
       "    .dataframe thead th {\n",
       "        text-align: right;\n",
       "    }\n",
       "</style>\n",
       "<table border=\"1\" class=\"dataframe\">\n",
       "  <thead>\n",
       "    <tr style=\"text-align: right;\">\n",
       "      <th></th>\n",
       "      <th>Text</th>\n",
       "      <th>Target</th>\n",
       "    </tr>\n",
       "  </thead>\n",
       "  <tbody>\n",
       "    <tr>\n",
       "      <th>8581</th>\n",
       "      <td>understanding operating business drawn provide...</td>\n",
       "      <td>FinTech</td>\n",
       "    </tr>\n",
       "    <tr>\n",
       "      <th>19325</th>\n",
       "      <td>form million</td>\n",
       "      <td>Robo Advising</td>\n",
       "    </tr>\n",
       "    <tr>\n",
       "      <th>12353</th>\n",
       "      <td>convenience experience</td>\n",
       "      <td>FinTech</td>\n",
       "    </tr>\n",
       "    <tr>\n",
       "      <th>20611</th>\n",
       "      <td>There growing school thought around video next...</td>\n",
       "      <td>Reg Tech</td>\n",
       "    </tr>\n",
       "    <tr>\n",
       "      <th>19697</th>\n",
       "      <td>study linear fixed effects panel regression model</td>\n",
       "      <td>Stock Trading</td>\n",
       "    </tr>\n",
       "    <tr>\n",
       "      <th>...</th>\n",
       "      <td>...</td>\n",
       "      <td>...</td>\n",
       "    </tr>\n",
       "    <tr>\n",
       "      <th>8333</th>\n",
       "      <td>therefore management body must sufficient know...</td>\n",
       "      <td>FinTech</td>\n",
       "    </tr>\n",
       "    <tr>\n",
       "      <th>18163</th>\n",
       "      <td>smart made immediate</td>\n",
       "      <td>Neobanks</td>\n",
       "    </tr>\n",
       "    <tr>\n",
       "      <th>22492</th>\n",
       "      <td>These include Virtual Sandbox Regulatory Sandb...</td>\n",
       "      <td>Reg Tech</td>\n",
       "    </tr>\n",
       "    <tr>\n",
       "      <th>13923</th>\n",
       "      <td>there however</td>\n",
       "      <td>FinTech</td>\n",
       "    </tr>\n",
       "    <tr>\n",
       "      <th>1913</th>\n",
       "      <td>question large enterprises determining data in...</td>\n",
       "      <td>Bigdata</td>\n",
       "    </tr>\n",
       "  </tbody>\n",
       "</table>\n",
       "<p>22000 rows × 2 columns</p>\n",
       "</div>"
      ],
      "text/plain": [
       "                                                    Text         Target\n",
       "8581   understanding operating business drawn provide...        FinTech\n",
       "19325                                       form million  Robo Advising\n",
       "12353                             convenience experience        FinTech\n",
       "20611  There growing school thought around video next...       Reg Tech\n",
       "19697  study linear fixed effects panel regression model  Stock Trading\n",
       "...                                                  ...            ...\n",
       "8333   therefore management body must sufficient know...        FinTech\n",
       "18163                               smart made immediate       Neobanks\n",
       "22492  These include Virtual Sandbox Regulatory Sandb...       Reg Tech\n",
       "13923                                      there however        FinTech\n",
       "1913   question large enterprises determining data in...        Bigdata\n",
       "\n",
       "[22000 rows x 2 columns]"
      ]
     },
     "execution_count": 89,
     "metadata": {},
     "output_type": "execute_result"
    }
   ],
   "source": [
    "rand_sub"
   ]
  },
  {
   "cell_type": "code",
   "execution_count": 90,
   "id": "mineral-tower",
   "metadata": {},
   "outputs": [],
   "source": [
    "uni_entry=rand_sub.Target.unique()# all the subset are present\n"
   ]
  },
  {
   "cell_type": "markdown",
   "id": "generous-employee",
   "metadata": {},
   "source": [
    "# Spllit data in text and target"
   ]
  },
  {
   "cell_type": "code",
   "execution_count": 91,
   "id": "caroline-sixth",
   "metadata": {},
   "outputs": [],
   "source": [
    "x,y=a.Text,a.Target"
   ]
  },
  {
   "cell_type": "code",
   "execution_count": 98,
   "id": "southeast-performer",
   "metadata": {},
   "outputs": [],
   "source": [
    "x_train,x_test,y_train,y_test=train_test_split(x,y,test_size=0.05)"
   ]
  },
  {
   "cell_type": "code",
   "execution_count": null,
   "id": "acquired-category",
   "metadata": {},
   "outputs": [],
   "source": []
  },
  {
   "cell_type": "markdown",
   "id": "premier-analyst",
   "metadata": {},
   "source": [
    "# Making a model using sklearn (Naive Bayes Classifier)"
   ]
  },
  {
   "cell_type": "code",
   "execution_count": 99,
   "id": "configured-pursuit",
   "metadata": {},
   "outputs": [],
   "source": [
    "Classifier = Pipeline([('vect', CountVectorizer()),\n",
    "               ('tfidf', TfidfTransformer()),\n",
    "               ('clf', MultinomialNB()),\n",
    "              ])"
   ]
  },
  {
   "cell_type": "code",
   "execution_count": 100,
   "id": "cross-month",
   "metadata": {},
   "outputs": [
    {
     "data": {
      "text/plain": [
       "Pipeline(steps=[('vect', CountVectorizer()), ('tfidf', TfidfTransformer()),\n",
       "                ('clf', MultinomialNB())])"
      ]
     },
     "execution_count": 100,
     "metadata": {},
     "output_type": "execute_result"
    }
   ],
   "source": [
    "Classifier.fit(x_train.values.astype('U'),y_train.values.astype('U'))\n"
   ]
  },
  {
   "cell_type": "markdown",
   "id": "sticky-cleveland",
   "metadata": {},
   "source": [
    "# Making a predict value"
   ]
  },
  {
   "cell_type": "code",
   "execution_count": 101,
   "id": "simplified-windows",
   "metadata": {},
   "outputs": [],
   "source": [
    "y_pred = Classifier.predict(x_test.values.astype('U'))"
   ]
  },
  {
   "cell_type": "code",
   "execution_count": 102,
   "id": "engaging-broadway",
   "metadata": {},
   "outputs": [
    {
     "name": "stdout",
     "output_type": "stream",
     "text": [
      "accuracy 0.5545774647887324\n"
     ]
    }
   ],
   "source": [
    "print('accuracy %s' % accuracy_score(y_pred, y_test))"
   ]
  },
  {
   "cell_type": "code",
   "execution_count": 103,
   "id": "specified-crystal",
   "metadata": {},
   "outputs": [
    {
     "name": "stdout",
     "output_type": "stream",
     "text": [
      "                  precision    recall  f1-score   support\n",
      "\n",
      "         FinTech       0.92      0.51      0.66       119\n",
      "   Robo Advising       1.00      0.11      0.21        61\n",
      "        Reg Tech       0.74      0.24      0.36       145\n",
      "   Stock Trading       0.00      0.00      0.00        17\n",
      "      Blockchain       0.48      0.99      0.64       438\n",
      "         Bigdata       1.00      0.13      0.23        38\n",
      "   Microservices       1.00      0.02      0.03        57\n",
      "   Data Security       0.92      0.68      0.78       120\n",
      "credit reporting       0.00      0.00      0.00        35\n",
      "  Cyber Security       1.00      0.08      0.14        39\n",
      "        Neobanks       0.50      0.03      0.06        67\n",
      "\n",
      "        accuracy                           0.55      1136\n",
      "       macro avg       0.69      0.25      0.28      1136\n",
      "    weighted avg       0.67      0.55      0.47      1136\n",
      "\n"
     ]
    },
    {
     "name": "stderr",
     "output_type": "stream",
     "text": [
      "C:\\Users\\arunn\\anaconda3\\envs\\tensorflow\\lib\\site-packages\\sklearn\\metrics\\_classification.py:1245: UndefinedMetricWarning: Precision and F-score are ill-defined and being set to 0.0 in labels with no predicted samples. Use `zero_division` parameter to control this behavior.\n",
      "  _warn_prf(average, modifier, msg_start, len(result))\n",
      "C:\\Users\\arunn\\anaconda3\\envs\\tensorflow\\lib\\site-packages\\sklearn\\metrics\\_classification.py:1245: UndefinedMetricWarning: Precision and F-score are ill-defined and being set to 0.0 in labels with no predicted samples. Use `zero_division` parameter to control this behavior.\n",
      "  _warn_prf(average, modifier, msg_start, len(result))\n",
      "C:\\Users\\arunn\\anaconda3\\envs\\tensorflow\\lib\\site-packages\\sklearn\\metrics\\_classification.py:1245: UndefinedMetricWarning: Precision and F-score are ill-defined and being set to 0.0 in labels with no predicted samples. Use `zero_division` parameter to control this behavior.\n",
      "  _warn_prf(average, modifier, msg_start, len(result))\n"
     ]
    }
   ],
   "source": [
    "print(classification_report(y_test, y_pred,target_names=uni_entry))"
   ]
  },
  {
   "cell_type": "code",
   "execution_count": null,
   "id": "eleven-implementation",
   "metadata": {},
   "outputs": [],
   "source": []
  }
 ],
 "metadata": {
  "kernelspec": {
   "display_name": "Python 3",
   "language": "python",
   "name": "python3"
  },
  "language_info": {
   "codemirror_mode": {
    "name": "ipython",
    "version": 3
   },
   "file_extension": ".py",
   "mimetype": "text/x-python",
   "name": "python",
   "nbconvert_exporter": "python",
   "pygments_lexer": "ipython3",
   "version": "3.8.8"
  }
 },
 "nbformat": 4,
 "nbformat_minor": 5
}
